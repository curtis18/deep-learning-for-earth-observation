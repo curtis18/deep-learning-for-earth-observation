{
  "nbformat": 4,
  "nbformat_minor": 0,
  "metadata": {
    "colab": {
      "provenance": [],
      "collapsed_sections": []
    },
    "kernelspec": {
      "name": "python3",
      "display_name": "Python 3"
    },
    "language_info": {
      "name": "python"
    },
    "accelerator": "GPU"
  },
  "cells": [
    {
      "cell_type": "markdown",
      "source": [
        "# Landslide detection using SAR dataset\n",
        "\n",
        "The following code is extracted from [this paper](https://doi.org/10.3390/rs14061449). ",
        "\n",
        "The dataset used in this code is available here: https://www.kaggle.com/datasets/tekbahadurkshetri/landslide-detection-using-sar-dataset/data"
      ],
      "metadata": {
        "id": "A6_6XAzcJyJ3"
      }
    },
    {
      "cell_type": "markdown",
      "source": [
        "## Installation of dependencies"
      ],
      "metadata": {
        "id": "fBMKPlDXKLgj"
      }
    },
    {
      "cell_type": "code",
      "source": [
        "!pip install segmentation-models rasterio"
      ],
      "metadata": {
        "id": "_aQb1VZ1Hp01"
      },
      "execution_count": null,
      "outputs": []
    },
    {
      "cell_type": "code",
      "source": [
        "import cv2 \n",
        "import time\n",
        "import os\n",
        "import h5py\n",
        "import pandas as pd\n",
        "from tensorflow.keras.models import Model\n",
        "from tensorflow.keras.layers import Input, concatenate, Conv2D, MaxPooling2D, Conv2DTranspose\n",
        "from tensorflow.keras.layers import Activation, add, multiply, Lambda\n",
        "from tensorflow.keras.layers import AveragePooling2D, average, UpSampling2D, Dropout\n",
        "from tensorflow.keras.optimizers import Adam, SGD, RMSprop\n",
        "from tensorflow.keras.initializers import glorot_normal, random_normal, random_uniform\n",
        "from tensorflow.keras.callbacks import ModelCheckpoint, TensorBoard, EarlyStopping\n",
        "\n",
        "from tensorflow.keras import backend as K\n",
        "from tensorflow.keras.layers import BatchNormalization \n",
        "from tensorflow.keras.applications import VGG19, densenet\n",
        "from tensorflow.keras.models import load_model\n",
        "\n",
        "import tensorflow as tf\n",
        "import numpy as np\n",
        "from matplotlib import pyplot as plt\n",
        "import segmentation_models as sm\n",
        "from tensorflow.keras.metrics import MeanIoU\n",
        "import random\n",
        "import rasterio\n",
        "from rasterio.plot import show\n",
        "from sklearn.model_selection import train_test_split\n",
        "from tensorflow.keras import layers\n",
        "from tensorflow import keras\n",
        "from tensorflow.keras.models import Model\n",
        "from tensorflow.keras.layers import Input, Conv2D, MaxPooling2D, UpSampling2D, concatenate, Conv2DTranspose, BatchNormalization, Dropout, Lambda\n",
        "from tensorflow.keras import backend as K\n",
        "\n",
        "K.set_image_data_format('channels_last')  # TF dimension ordering in this code\n",
        "kinit = 'glorot_normal'\n",
        "\n",
        "\n",
        "def expend_as(tensor, rep,name):\n",
        "\tmy_repeat = Lambda(lambda x, repnum: K.repeat_elements(x, repnum, axis=3), arguments={'repnum': rep},  name='psi_up'+name)(tensor)\n",
        "\treturn my_repeat\n",
        "\n",
        "\n",
        "def AttnGatingBlock(x, g, inter_shape, name):\n",
        "    ''' take g which is the spatially smaller signal, do a conv to get the same\n",
        "    number of feature channels as x (bigger spatially)\n",
        "    do a conv on x to also get same geature channels (theta_x)\n",
        "    then, upsample g to be same size as x \n",
        "    add x and g (concat_xg)\n",
        "    relu, 1x1 conv, then sigmoid then upsample the final - this gives us attn coefficients'''\n",
        "    \n",
        "    shape_x = K.int_shape(x)  # 32\n",
        "    shape_g = K.int_shape(g)  # 16\n",
        "\n",
        "    theta_x = Conv2D(inter_shape, (2, 2), strides=(2, 2), padding='same', name='xl'+name)(x)  # 16\n",
        "    shape_theta_x = K.int_shape(theta_x)\n",
        "\n",
        "    phi_g = Conv2D(inter_shape, (1, 1), padding='same')(g)\n",
        "    upsample_g = Conv2DTranspose(inter_shape, (3, 3),strides=(shape_theta_x[1] // shape_g[1], shape_theta_x[2] // shape_g[2]),padding='same', name='g_up'+name)(phi_g)  # 16\n",
        "\n",
        "    concat_xg = add([upsample_g, theta_x])\n",
        "    act_xg = Activation('relu')(concat_xg)\n",
        "    psi = Conv2D(1, (1, 1), padding='same', name='psi'+name)(act_xg)\n",
        "    sigmoid_xg = Activation('sigmoid')(psi)\n",
        "    shape_sigmoid = K.int_shape(sigmoid_xg)\n",
        "    upsample_psi = UpSampling2D(size=(shape_x[1] // shape_sigmoid[1], shape_x[2] // shape_sigmoid[2]))(sigmoid_xg)  # 32\n",
        "\n",
        "    upsample_psi = expend_as(upsample_psi, shape_x[3],  name)\n",
        "    y = multiply([upsample_psi, x], name='q_attn'+name)\n",
        "\n",
        "    result = Conv2D(shape_x[3], (1, 1), padding='same',name='q_attn_conv'+name)(y)\n",
        "    result_bn = BatchNormalization(name='q_attn_bn'+name)(result)\n",
        "    return result_bn\n",
        "\n",
        "def UnetConv2D(input, outdim, is_batchnorm, name):\n",
        "\tx = Conv2D(outdim, (3, 3), strides=(1, 1), kernel_initializer=kinit, padding=\"same\", name=name+'_1')(input)\n",
        "\tif is_batchnorm:\n",
        "\t\tx =BatchNormalization(name=name + '_1_bn')(x)\n",
        "\tx = Activation('relu',name=name + '_1_act')(x)\n",
        "\n",
        "\tx = Conv2D(outdim, (3, 3), strides=(1, 1), kernel_initializer=kinit, padding=\"same\", name=name+'_2')(x)\n",
        "\tif is_batchnorm:\n",
        "\t\tx = BatchNormalization(name=name + '_2_bn')(x)\n",
        "\tx = Activation('relu', name=name + '_2_act')(x)\n",
        "\treturn x\n",
        "\t\n",
        "\n",
        "def UnetGatingSignal(input, is_batchnorm, name):\n",
        "    ''' this is simply 1x1 convolution, bn, activation '''\n",
        "    shape = K.int_shape(input)\n",
        "    x = Conv2D(shape[3] * 1, (1, 1), strides=(1, 1), padding=\"same\",  kernel_initializer=kinit, name=name + '_conv')(input)\n",
        "    if is_batchnorm:\n",
        "        x = BatchNormalization(name=name + '_bn')(x)\n",
        "    x = Activation('relu', name = name + '_act')(x)\n",
        "    return x\n"
      ],
      "metadata": {
        "id": "bR7TVwTsHLyn",
        "colab": {
          "base_uri": "https://localhost:8080/"
        },
        "outputId": "28c2f988-d84a-4abf-e4d2-204642ad993e"
      },
      "execution_count": 2,
      "outputs": [
        {
          "output_type": "stream",
          "name": "stdout",
          "text": [
            "Segmentation Models: using `keras` framework.\n"
          ]
        }
      ]
    },
    {
      "cell_type": "code",
      "source": [
        "import tensorflow.keras.backend as K\n",
        "\n",
        "smooth = 1\n",
        "\n",
        "def dsc(y_true, y_pred):\n",
        "    smooth = 1.\n",
        "    y_true_f = K.flatten(y_true)\n",
        "    y_pred_f = K.flatten(y_pred)\n",
        "    intersection = K.sum(y_true_f * y_pred_f)\n",
        "    score = (2. * intersection + smooth) / (K.sum(y_true_f) + K.sum(y_pred_f) + smooth)\n",
        "    return score\n",
        "\n",
        "def dice_loss(y_true, y_pred):\n",
        "    loss = 1 - dsc(y_true, y_pred)\n",
        "    return loss"
      ],
      "metadata": {
        "id": "InlIhOveHryQ"
      },
      "execution_count": 3,
      "outputs": []
    },
    {
      "cell_type": "code",
      "source": [
        "# Load data\n",
        "X_train = np.load(f'/content/data/trainX.npy')\n",
        "Y_train = np.load(f'/content/data/trainY.npy')\n",
        "X_test = np.load(f'/content/data/testX.npy')\n",
        "Y_test = np.load(f'/content/data/testY.npy')"
      ],
      "metadata": {
        "id": "4XhIHGpsIOWC"
      },
      "execution_count": 4,
      "outputs": []
    },
    {
      "cell_type": "code",
      "source": [
        "X_train.shape, Y_train.shape, X_test.shape, Y_test.shape"
      ],
      "metadata": {
        "colab": {
          "base_uri": "https://localhost:8080/"
        },
        "id": "mVlRkn1b7olP",
        "outputId": "52056c2d-2fb5-46c3-98c8-27c4175edb42"
      },
      "execution_count": 5,
      "outputs": [
        {
          "output_type": "execute_result",
          "data": {
            "text/plain": [
              "((752, 64, 64, 4), (752, 64, 64, 1), (189, 64, 64, 4), (189, 64, 64, 1))"
            ]
          },
          "metadata": {},
          "execution_count": 5
        }
      ]
    },
    {
      "cell_type": "code",
      "source": [
        "i=11\n",
        "\n",
        "f, axarr = plt.subplots(1,2,figsize=(10,10))\n",
        "axarr[0].imshow(X_test[i][:,:,3])\n",
        "axarr[1].imshow(np.squeeze(Y_test[i]))"
      ],
      "metadata": {
        "colab": {
          "base_uri": "https://localhost:8080/",
          "height": 322
        },
        "id": "4jtVuvjd7Ixc",
        "outputId": "4c6a7b41-dc82-4c2a-99fa-3f131d3e0ff5"
      },
      "execution_count": 10,
      "outputs": [
        {
          "output_type": "execute_result",
          "data": {
            "text/plain": [
              "<matplotlib.image.AxesImage at 0x7fec84a6a290>"
            ]
          },
          "metadata": {},
          "execution_count": 10
        },
        {
          "output_type": "display_data",
          "data": {
            "text/plain": [
              "<Figure size 720x720 with 2 Axes>"
            ],
            "image/png": "[encoded data removed]"
          },
          "metadata": {
            "needs_background": "light"
          }
        }
      ]
    },
    {
      "cell_type": "code",
      "source": [
        "# define matrics\n",
        "metrics = [sm.metrics.Precision(threshold=0.5),sm.metrics.Recall(threshold=0.5),sm.metrics.FScore(threshold=0.5,beta=1),sm.metrics.IOUScore(threshold=0.5)]"
      ],
      "metadata": {
        "id": "QAty3nFyIqBC"
      },
      "execution_count": 11,
      "outputs": []
    },
    {
      "cell_type": "code",
      "source": [
        "# Model training - Results are saved in a .csv file\n",
        "\n",
        "# Size of the tiles\n",
        "size = 64\n",
        "# Image bands\n",
        "img_bands = X_train.shape[3]\n",
        "# Sampling method\n",
        "sampling = \"no_overlap\"\n",
        "# Number of filters \n",
        "filters = [4, 8, 16, 32]\n",
        "# Learning rates\n",
        "lr = [10e-3, 5e-4, 10e-4, 5e-5, 10e-5]\n",
        "# Batch sizes \n",
        "batch_size = [4, 8, 16, 32]\n",
        "# Epochs\n",
        "epochs = 200\n",
        "\n",
        "# Dictionary that will save the results\n",
        "dic = {}\n",
        "\n",
        "# Hyperparameters\n",
        "dic[\"model\"] = []\n",
        "dic[\"batch_size\"] = []\n",
        "dic[\"learning_rate\"] = []\n",
        "dic[\"filters\"] = []\n",
        "\n",
        "# test area 1\n",
        "dic[\"precision_area\"] = []\n",
        "dic[\"recall_area\"] = []\n",
        "dic[\"f1_score_area\"] = []\n",
        "dic[\"iou_score_area\"] = []\n",
        "\n",
        "# loop over all the filters in the filter list\n",
        "for fiilter in filters:\n",
        "    # loop over the learning rates\n",
        "    for learning_rate in lr:\n",
        "        # loop over all batch sizes in batch_size list\n",
        "        for batch in batch_size:\n",
        "            def attn_unet(lr,filtersFirstLayer, pretrained_weights = None,input_size = (size,size,img_bands)):   \n",
        "                inputs = Input(shape=input_size)\n",
        "                conv1 = UnetConv2D(inputs, filtersFirstLayer, is_batchnorm=True, name='conv1')\n",
        "                pool1 = MaxPooling2D(pool_size=(2, 2))(conv1)\n",
        "\n",
        "                conv2 = UnetConv2D(pool1, filtersFirstLayer, is_batchnorm=True, name='conv2')\n",
        "                pool2 = MaxPooling2D(pool_size=(2, 2))(conv2)\n",
        "\n",
        "                conv3 = UnetConv2D(pool2, filtersFirstLayer*2, is_batchnorm=True, name='conv3')\n",
        "                #conv3 = Dropout(0.2,name='drop_conv3')(conv3)\n",
        "                pool3 = MaxPooling2D(pool_size=(2, 2))(conv3)\n",
        "\n",
        "                conv4 = UnetConv2D(pool3, filtersFirstLayer*2, is_batchnorm=True, name='conv4')\n",
        "                #conv4 = Dropout(0.2, name='drop_conv4')(conv4)\n",
        "                pool4 = MaxPooling2D(pool_size=(2, 2))(conv4)\n",
        "\n",
        "                center = UnetConv2D(pool4, filtersFirstLayer*4, is_batchnorm=True, name='center')\n",
        "\n",
        "                g1 = UnetGatingSignal(center, is_batchnorm=True, name='g1')\n",
        "                attn1 = AttnGatingBlock(conv4, g1, filtersFirstLayer*4, '_1')\n",
        "                up1 = concatenate([Conv2DTranspose(filtersFirstLayer, (3,3), strides=(2,2), padding='same', activation='relu', kernel_initializer=kinit)(center), attn1], name='up1')\n",
        "\n",
        "                g2 = UnetGatingSignal(up1, is_batchnorm=True, name='g2')\n",
        "                attn2 = AttnGatingBlock(conv3, g2, filtersFirstLayer*2, '_2')\n",
        "                up2 = concatenate([Conv2DTranspose(filtersFirstLayer*2, (3,3), strides=(2,2), padding='same', activation='relu', kernel_initializer=kinit)(up1), attn2], name='up2')\n",
        "\n",
        "                g3 = UnetGatingSignal(up1, is_batchnorm=True, name='g3')\n",
        "                attn3 = AttnGatingBlock(conv2, g3, filtersFirstLayer, '_3')\n",
        "                up3 = concatenate([Conv2DTranspose(filtersFirstLayer, (3,3), strides=(2,2), padding='same', activation='relu', kernel_initializer=kinit)(up2), attn3], name='up3')\n",
        "\n",
        "                up4 = concatenate([Conv2DTranspose(filtersFirstLayer, (3,3), strides=(2,2), padding='same', activation='relu', kernel_initializer=kinit)(up3), conv1], name='up4')\n",
        "                conv10 = Conv2D(1, (1, 1), activation='sigmoid',  kernel_initializer=kinit, name='final')(up4)\n",
        "\n",
        "                model = Model(inputs, conv10)\n",
        "\n",
        "                model.compile(optimizer = Adam(lr = lr), loss = dice_loss, metrics = metrics)\n",
        "                model.summary()\n",
        "\n",
        "                if(pretrained_weights):\n",
        "                    model.load_weights(pretrained_weights)\n",
        "\n",
        "                return model\n",
        "\n",
        "\n",
        "\n",
        "            # Load the model\n",
        "            model = attn_unet(filtersFirstLayer= fiilter, lr = learning_rate, input_size = (size,size,img_bands))\n",
        "            # Stop the training if the validation loss does not decrease after 30 epochs\n",
        "            early_stop = keras.callbacks.EarlyStopping(monitor = 'val_loss', # what is the metric to measure\n",
        "                              patience = 30, # how many epochs to continue running the model after seeing an increase in val_loss\n",
        "                              restore_best_weights = True) # update the mod\n",
        "            # Save the models only when validation loss decrease\n",
        "            model_checkpoint = tf.keras.callbacks.ModelCheckpoint(f'data/weights/unet_{sampling}_size_{size}_filters_{fiilter}_batch_size_{batch}_lr_{learning_rate}.hdf5', monitor='val_loss', mode='min',verbose=1, save_best_only=True,save_weights_only = True)\n",
        "            print(fiilter, learning_rate,batch)\n",
        "            # fit the model 20% of the dataset was used as validation\n",
        "            history = model.fit(X_train,Y_train,batch_size = batch,epochs=epochs,validation_split=0.2,callbacks = [model_checkpoint, early_stop])\n",
        "\n",
        "            # summarize history for iou score\n",
        "            plt.plot(history.history['f1-score'])\n",
        "            plt.plot(history.history['val_f1-score'])\n",
        "            plt.title('model f1-score')\n",
        "            plt.ylabel('f1-score')\n",
        "            plt.xlabel('epoch')\n",
        "            plt.legend(['train', 'validation'], loc='upper left')\n",
        "            # save plots \n",
        "            plt.savefig(f\"data/plots/unet_{sampling}_size_{size}_filters_{fiilter}_batch_size_{batch}_lr_{learning_rate}_iou_score.png\")\n",
        "            plt.show()\n",
        "            # summarize history for loss\n",
        "            plt.plot(history.history['loss'])\n",
        "            plt.plot(history.history['val_loss'])\n",
        "            plt.title('model loss')\n",
        "            plt.ylabel('loss')\n",
        "            plt.xlabel('epoch')\n",
        "            plt.legend(['train', 'validation'], loc='upper left')\n",
        "            plt.savefig(f\"data/plots/unet_{sampling}_size_{size}_filters_{fiilter}_batch_size_{batch}_lr_{learning_rate}_val_loss.png\")\n",
        "            plt.show()\n",
        "            \n",
        "            # load unet to evaluate the test data\n",
        "            attn_unet = attn_unet(filtersFirstLayer= fiilter, lr = learning_rate,input_size=(size,size,img_bands))\n",
        "            # load the last saved weight from the training\n",
        "            attn_unet.load_weights(f\"data/weights/unet_{sampling}_size_{size}_filters_{fiilter}_batch_size_{batch}_lr_{learning_rate}.hdf5\")\n",
        "            \n",
        "           # Evaluate the model\n",
        "            res_1= attn_unet.evaluate(X_test,Y_test)\n",
        "\n",
        "\n",
        "            # save results on the dictionary\n",
        "            dic[\"model\"].append(\"Attention_Unet\")\n",
        "            dic[\"batch_size\"].append(batch)\n",
        "            dic[\"learning_rate\"].append(learning_rate)\n",
        "            dic[\"filters\"].append(fiilter)\n",
        "            dic[\"precision_area\"].append(res_1[1])\n",
        "            dic[\"recall_area\"].append(res_1[2])\n",
        "            dic[\"f1_score_area\"].append(res_1[3])\n",
        "            dic[\"iou_score_area\"].append(res_1[4])\n",
        "            \n",
        "\n",
        "\n",
        "            # Convert results to a dataframe\n",
        "            results = pd.DataFrame(dic)\n",
        "            # Export as csv\n",
        "            results.to_csv(f'data/results/results_Att_Unet.csv', index = False)"
      ],
      "metadata": {
        "id": "TlCtW0O4I9Fl"
      },
      "execution_count": null,
      "outputs": []
    },
    {
      "cell_type": "code",
      "source": [
        "def attn_unet(lr,filtersFirstLayer, pretrained_weights = None,input_size = (size,size,img_bands)):   \n",
        "    inputs = Input(shape=input_size)\n",
        "    conv1 = UnetConv2D(inputs, filtersFirstLayer, is_batchnorm=True, name='conv1')\n",
        "    pool1 = MaxPooling2D(pool_size=(2, 2))(conv1)\n",
        "\n",
        "    conv2 = UnetConv2D(pool1, filtersFirstLayer, is_batchnorm=True, name='conv2')\n",
        "    pool2 = MaxPooling2D(pool_size=(2, 2))(conv2)\n",
        "\n",
        "    conv3 = UnetConv2D(pool2, filtersFirstLayer*2, is_batchnorm=True, name='conv3')\n",
        "    #conv3 = Dropout(0.2,name='drop_conv3')(conv3)\n",
        "    pool3 = MaxPooling2D(pool_size=(2, 2))(conv3)\n",
        "\n",
        "    conv4 = UnetConv2D(pool3, filtersFirstLayer*2, is_batchnorm=True, name='conv4')\n",
        "    #conv4 = Dropout(0.2, name='drop_conv4')(conv4)\n",
        "    pool4 = MaxPooling2D(pool_size=(2, 2))(conv4)\n",
        "\n",
        "    center = UnetConv2D(pool4, filtersFirstLayer*4, is_batchnorm=True, name='center')\n",
        "\n",
        "    g1 = UnetGatingSignal(center, is_batchnorm=True, name='g1')\n",
        "    attn1 = AttnGatingBlock(conv4, g1, filtersFirstLayer*4, '_1')\n",
        "    up1 = concatenate([Conv2DTranspose(filtersFirstLayer, (3,3), strides=(2,2), padding='same', activation='relu', kernel_initializer=kinit)(center), attn1], name='up1')\n",
        "\n",
        "    g2 = UnetGatingSignal(up1, is_batchnorm=True, name='g2')\n",
        "    attn2 = AttnGatingBlock(conv3, g2, filtersFirstLayer*2, '_2')\n",
        "    up2 = concatenate([Conv2DTranspose(filtersFirstLayer*2, (3,3), strides=(2,2), padding='same', activation='relu', kernel_initializer=kinit)(up1), attn2], name='up2')\n",
        "\n",
        "    g3 = UnetGatingSignal(up1, is_batchnorm=True, name='g3')\n",
        "    attn3 = AttnGatingBlock(conv2, g3, filtersFirstLayer, '_3')\n",
        "    up3 = concatenate([Conv2DTranspose(filtersFirstLayer, (3,3), strides=(2,2), padding='same', activation='relu', kernel_initializer=kinit)(up2), attn3], name='up3')\n",
        "\n",
        "    up4 = concatenate([Conv2DTranspose(filtersFirstLayer, (3,3), strides=(2,2), padding='same', activation='relu', kernel_initializer=kinit)(up3), conv1], name='up4')\n",
        "    conv10 = Conv2D(1, (1, 1), activation='sigmoid',  kernel_initializer=kinit, name='final')(up4)\n",
        "\n",
        "    model = Model(inputs, conv10)\n",
        "\n",
        "    model.compile(optimizer = Adam(lr = lr), loss = dice_loss, metrics = metrics)\n",
        "    # model.summary()\n",
        "\n",
        "    if(pretrained_weights):\n",
        "        model.load_weights(pretrained_weights)\n",
        "\n",
        "    return model"
      ],
      "metadata": {
        "id": "-0WU6RVBTQAU"
      },
      "execution_count": 14,
      "outputs": []
    },
    {
      "cell_type": "code",
      "source": [
        "# Load the best model based on the best performances on the test set (check CSV file)\n",
        "# Loading the model weights\n",
        "size = 64\n",
        "img_bands=4\n",
        "print(size, img_bands)\n",
        "attn_unet_best = attn_unet(filtersFirstLayer=4, lr = 0.001, input_size =(size,size,img_bands))\n",
        "print(attn_unet_best.summary())\n",
        "attn_unet_best.load_weights(\"data/weights/unet_no_overlap_size_64_filters_4_batch_size_4_lr_0.001.hdf5\")"
      ],
      "metadata": {
        "id": "mf-cshuMSBnC"
      },
      "execution_count": null,
      "outputs": []
    },
    {
      "cell_type": "code",
      "source": [
        "# Plot predictions on test set\n",
        "for i in range(X_test.shape[0]):\n",
        "    preds_train_1 = attn_unet_best.predict(np.expand_dims(X_test[i],axis = 0), verbose=1)\n",
        "    # It's possible to change the 0.5 threshold to improve the results;\n",
        "    preds_train_t1 = (preds_train_1 > 0.5).astype(np.uint8)\n",
        "    f, axarr = plt.subplots(1,3,figsize=(10,10))\n",
        "    axarr[0].imshow(X_test[i][:,:,0])\n",
        "    axarr[1].imshow(np.squeeze(preds_train_t1))\n",
        "    axarr[2].imshow(np.squeeze(Y_test[i]))\n",
        "    \n",
        "\n"
      ],
      "metadata": {
        "id": "UyVZ28AHJQmd"
      },
      "execution_count": null,
      "outputs": []
    },
    {
      "cell_type": "code",
      "source": [
        "! zip -r \"/content/output.zip\" \"/content/data\""
      ],
      "metadata": {
        "id": "KNNU6L6hJUFP"
      },
      "execution_count": null,
      "outputs": []
    }
  ]
}
